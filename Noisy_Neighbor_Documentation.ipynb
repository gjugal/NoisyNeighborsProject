{
 "cells": [
  {
   "cell_type": "code",
   "execution_count": 310,
   "metadata": {
    "collapsed": true
   },
   "outputs": [],
   "source": [
    "import pandas as pd\n",
    "import numpy as np\n",
    "from sklearn.cluster import KMeans\n",
    "from sklearn import preprocessing\n",
    "import matplotlib.pyplot as plt"
   ]
  },
  {
   "cell_type": "code",
   "execution_count": 311,
   "metadata": {
    "collapsed": true
   },
   "outputs": [],
   "source": [
    "base_path = 'C:/Users/gujju/Desktop/CapstoneWork/'\n",
    "folder_name = '3IntervalRuns/'"
   ]
  },
  {
   "cell_type": "code",
   "execution_count": 312,
   "metadata": {
    "collapsed": true
   },
   "outputs": [],
   "source": [
    "file_name = 'November 14th m1.xlarge matrixprod - 2_300.csv'"
   ]
  },
  {
   "cell_type": "code",
   "execution_count": 313,
   "metadata": {
    "collapsed": false
   },
   "outputs": [],
   "source": [
    "df = pd.read_csv(base_path + folder_name + file_name)"
   ]
  },
  {
   "cell_type": "code",
   "execution_count": 314,
   "metadata": {
    "collapsed": false
   },
   "outputs": [
    {
     "name": "stdout",
     "output_type": "stream",
     "text": [
      "     output    vmIpAddr  dsr     dsw       nbr       nbs    cpuusr  cpukrn  \\\n",
      "0  133583.0  10.0.1.102  0.0  4816.0  223607.0  407182.0  118816.0  1565.0   \n",
      "1  136324.0  10.0.1.103  0.0  4720.0  223193.0  405460.0  118808.0  1529.0   \n",
      "2  136387.0   10.0.1.11  0.0  4824.0  225907.0  411152.0  118846.0  1572.0   \n",
      "3  136086.0  10.0.1.116  0.0  4816.0  226333.0  412108.0  118935.0  1476.0   \n",
      "4  135186.0  10.0.1.122  0.0  5136.0  222561.0  405260.0  118868.0  1536.0   \n",
      "\n",
      "   cpuidle  cpuIoWait  ...   cpuNice  cpuSteal  dskRds  dskMrgdRds  dskReadTm  \\\n",
      "0   8038.0        0.0  ...         0     106.0     0.0           0        0.0   \n",
      "1   7867.0        0.0  ...         0       3.0     0.0           0        0.0   \n",
      "2   8743.0        0.0  ...         0       3.0     0.0           0        0.0   \n",
      "3   8692.0        0.0  ...         0       3.0     0.0           0        0.0   \n",
      "4   8053.0        2.0  ...         0       3.0     0.0           0        0.0   \n",
      "\n",
      "   dskWrts  dskMrgdWrts  dskWrtTm  ldAvg  time  \n",
      "0    364.0        238.0      20.0   8.39   321  \n",
      "1    357.0        233.0       8.0   8.33   321  \n",
      "2    363.0        240.0      20.0   7.03   323  \n",
      "3    365.0        237.0      12.0   7.69   323  \n",
      "4    363.0        279.0      16.0   7.72   321  \n",
      "\n",
      "[5 rows x 23 columns]\n"
     ]
    }
   ],
   "source": [
    "column_names = df.columns\n",
    "bad_columns = ['cpuType', 'cpuMhz', 'sampleTime', 'elapsedTime', 'cputime', 'testName']\n",
    "df = df.drop(bad_columns, 1)\n",
    "df = df.dropna()\n",
    "print(df.head())"
   ]
  },
  {
   "cell_type": "markdown",
   "metadata": {},
   "source": [
    "** Approach 1 =>** Heuristical approach: statistical outlier method - take the average cpuSteal of the pool, calculate standard deviation. The NN-threshold is 'AVG + 2*STD-DEV'.  Classify NN VMs using this approach. "
   ]
  },
  {
   "cell_type": "code",
   "execution_count": 315,
   "metadata": {
    "collapsed": false
   },
   "outputs": [
    {
     "name": "stdout",
     "output_type": "stream",
     "text": [
      "63.29524637162322\n",
      "              output  dsr     dsw            nbr           nbs         cpuusr  \\\n",
      "count       3.000000  3.0     3.0       3.000000       3.00000       3.000000   \n",
      "mean   130549.000000  0.0  4720.0  221094.333333  402620.00000  118299.000000   \n",
      "std      1657.946622  0.0     8.0     797.205954     925.46853     127.941393   \n",
      "min    128816.000000  0.0  4712.0  220563.000000  402022.00000  118154.000000   \n",
      "25%    129763.500000  0.0  4716.0  220636.000000  402087.00000  118250.500000   \n",
      "50%    130711.000000  0.0  4720.0  220709.000000  402152.00000  118347.000000   \n",
      "75%    131415.500000  0.0  4724.0  221360.000000  402919.00000  118371.500000   \n",
      "max    132120.000000  0.0  4728.0  222011.000000  403686.00000  118396.000000   \n",
      "\n",
      "            cpukrn      cpuidle  cpuIoWait  cIntSrvc     ...      cpuNice  \\\n",
      "count     3.000000     3.000000        3.0       3.0     ...          3.0   \n",
      "mean   1987.333333  8431.000000        0.0       0.0     ...          0.0   \n",
      "std     113.191578   479.196202        0.0       0.0     ...          0.0   \n",
      "min    1891.000000  7878.000000        0.0       0.0     ...          0.0   \n",
      "25%    1925.000000  8284.500000        0.0       0.0     ...          0.0   \n",
      "50%    1959.000000  8691.000000        0.0       0.0     ...          0.0   \n",
      "75%    2035.500000  8707.500000        0.0       0.0     ...          0.0   \n",
      "max    2112.000000  8724.000000        0.0       0.0     ...          0.0   \n",
      "\n",
      "        cpuSteal  dskRds  dskMrgdRds  dskReadTm     dskWrts  dskMrgdWrts  \\\n",
      "count    3.00000     3.0         3.0        3.0    3.000000     3.000000   \n",
      "mean   255.00000     0.0         0.0        0.0  355.333333   234.666667   \n",
      "std     45.90207     0.0         0.0        0.0    0.577350     1.527525   \n",
      "min    217.00000     0.0         0.0        0.0  355.000000   233.000000   \n",
      "25%    229.50000     0.0         0.0        0.0  355.000000   234.000000   \n",
      "50%    242.00000     0.0         0.0        0.0  355.000000   235.000000   \n",
      "75%    274.00000     0.0         0.0        0.0  355.500000   235.500000   \n",
      "max    306.00000     0.0         0.0        0.0  356.000000   236.000000   \n",
      "\n",
      "       dskWrtTm     ldAvg        time  \n",
      "count       3.0  3.000000    3.000000  \n",
      "mean       16.0  7.863333  322.333333  \n",
      "std         8.0  0.391450    1.154701  \n",
      "min         8.0  7.580000  321.000000  \n",
      "25%        12.0  7.640000  322.000000  \n",
      "50%        16.0  7.700000  323.000000  \n",
      "75%        20.0  8.005000  323.000000  \n",
      "max        24.0  8.310000  323.000000  \n",
      "\n",
      "[8 rows x 22 columns]\n",
      "              output        dsr          dsw            nbr            nbs  \\\n",
      "count      46.000000  46.000000    46.000000      46.000000      46.000000   \n",
      "mean   134866.565217   0.869565  4813.913043  223490.913043  406850.586957   \n",
      "std      1486.439036   5.897678   102.636322    1597.699483    2969.042843   \n",
      "min    130862.000000   0.000000  4648.000000  220587.000000  401740.000000   \n",
      "25%    134065.000000   0.000000  4754.000000  222299.500000  404836.500000   \n",
      "50%    135136.500000   0.000000  4800.000000  223773.000000  407283.000000   \n",
      "75%    135809.250000   0.000000  4824.000000  224516.500000  408838.500000   \n",
      "max    137310.000000  40.000000  5136.000000  226977.000000  412848.000000   \n",
      "\n",
      "              cpuusr       cpukrn      cpuidle  cpuIoWait  cIntSrvc  \\\n",
      "count      46.000000    46.000000    46.000000  46.000000      46.0   \n",
      "mean   118845.369565  1536.869565  8113.521739   0.239130       0.0   \n",
      "std        82.235531    89.506700   323.234056   0.638915       0.0   \n",
      "min    118565.000000  1423.000000  7618.000000   0.000000       0.0   \n",
      "25%    118821.500000  1474.000000  7878.500000   0.000000       0.0   \n",
      "50%    118857.000000  1523.500000  8048.500000   0.000000       0.0   \n",
      "75%    118904.750000  1565.000000  8257.750000   0.000000       0.0   \n",
      "max    118978.000000  1816.000000  8743.000000   3.000000       0.0   \n",
      "\n",
      "          ...      cpuNice    cpuSteal     dskRds  dskMrgdRds  dskReadTm  \\\n",
      "count     ...         46.0   46.000000  46.000000        46.0  46.000000   \n",
      "mean      ...          0.0    8.347826   0.043478         0.0   0.173913   \n",
      "std       ...          0.0   21.476827   0.294884         0.0   1.179536   \n",
      "min       ...          0.0    1.000000   0.000000         0.0   0.000000   \n",
      "25%       ...          0.0    2.000000   0.000000         0.0   0.000000   \n",
      "50%       ...          0.0    3.000000   0.000000         0.0   0.000000   \n",
      "75%       ...          0.0    3.000000   0.000000         0.0   0.000000   \n",
      "max       ...          0.0  106.000000   2.000000         0.0   8.000000   \n",
      "\n",
      "          dskWrts  dskMrgdWrts    dskWrtTm      ldAvg        time  \n",
      "count   46.000000    46.000000   46.000000  46.000000   46.000000  \n",
      "mean   362.108696   239.630435   35.217391   7.885870  321.413043  \n",
      "std      6.805972     8.761935   81.176327   0.419235    0.932764  \n",
      "min    351.000000   230.000000    0.000000   7.030000  320.000000  \n",
      "25%    358.000000   235.250000   12.000000   7.592500  321.000000  \n",
      "50%    361.000000   239.000000   16.000000   7.710000  321.000000  \n",
      "75%    364.750000   240.750000   27.000000   8.305000  321.000000  \n",
      "max    392.000000   279.000000  524.000000   8.510000  323.000000  \n",
      "\n",
      "[8 rows x 22 columns]\n"
     ]
    }
   ],
   "source": [
    "cpuSteal_avg = np.mean(df['cpuSteal'])\n",
    "cpuSteal_std = np.std(df['cpuSteal'])\n",
    "print(cpuSteal_std)\n",
    "outlier_val = cpuSteal_avg + (2*cpuSteal_std)\n",
    "nn_df = df[df['cpuSteal'] > outlier_val]\n",
    "non_nn_df = df[df['cpuSteal'] <= outlier_val]\n",
    "print(nn_df.describe())\n",
    "print(non_nn_df.describe())"
   ]
  },
  {
   "cell_type": "markdown",
   "metadata": {},
   "source": [
    "**Approach 2 =>** Percentile approach: determine the 10th and 5th percentile of cpuSteal for the pool.  Classify NN VMs as any VM falling in the 10th and/or 5th percentile.\n",
    "Here, we’d like to know which percentile is better (10th vs. 5th).\n",
    "Excel has a percentile function."
   ]
  },
  {
   "cell_type": "code",
   "execution_count": 316,
   "metadata": {
    "collapsed": false
   },
   "outputs": [
    {
     "name": "stdout",
     "output_type": "stream",
     "text": [
      "52.8\n"
     ]
    }
   ],
   "source": [
    "percentile_val = df.cpuSteal.quantile(.90)\n",
    "print(percentile_val)"
   ]
  },
  {
   "cell_type": "code",
   "execution_count": 317,
   "metadata": {
    "collapsed": false
   },
   "outputs": [
    {
     "name": "stdout",
     "output_type": "stream",
     "text": [
      "             output  dsr          dsw            nbr            nbs  \\\n",
      "count       5.00000  5.0     5.000000       5.000000       5.000000   \n",
      "mean   132060.60000  0.0  4768.000000  221844.200000  403784.800000   \n",
      "std      2436.42326  0.0    68.117545    1255.230337    2081.686624   \n",
      "min    128816.00000  0.0  4712.000000  220563.000000  402022.000000   \n",
      "25%    130711.00000  0.0  4720.000000  220709.000000  402152.000000   \n",
      "50%    132120.00000  0.0  4728.000000  222011.000000  403686.000000   \n",
      "75%    133583.00000  0.0  4816.000000  222331.000000  403882.000000   \n",
      "max    135073.00000  0.0  4864.000000  223607.000000  407182.000000   \n",
      "\n",
      "              cpuusr     cpukrn      cpuidle  cpuIoWait  cIntSrvc     ...      \\\n",
      "count       5.000000     5.0000     5.000000        5.0       5.0     ...       \n",
      "mean   118455.600000  1867.4000  8384.800000        0.0       0.0     ...       \n",
      "std       249.080911   202.1863   396.635475        0.0       0.0     ...       \n",
      "min    118154.000000  1565.0000  7878.000000        0.0       0.0     ...       \n",
      "25%    118347.000000  1810.0000  8038.000000        0.0       0.0     ...       \n",
      "50%    118396.000000  1891.0000  8593.000000        0.0       0.0     ...       \n",
      "75%    118565.000000  1959.0000  8691.000000        0.0       0.0     ...       \n",
      "max    118816.000000  2112.0000  8724.000000        0.0       0.0     ...       \n",
      "\n",
      "       cpuNice    cpuSteal  dskRds  dskMrgdRds  dskReadTm    dskWrts  \\\n",
      "count      5.0    5.000000     5.0         5.0        5.0    5.00000   \n",
      "mean       0.0  194.200000     0.0         0.0        0.0  358.40000   \n",
      "std        0.0   89.382325     0.0         0.0        0.0    4.27785   \n",
      "min        0.0  100.000000     0.0         0.0        0.0  355.00000   \n",
      "25%        0.0  106.000000     0.0         0.0        0.0  355.00000   \n",
      "50%        0.0  217.000000     0.0         0.0        0.0  356.00000   \n",
      "75%        0.0  242.000000     0.0         0.0        0.0  362.00000   \n",
      "max        0.0  306.000000     0.0         0.0        0.0  364.00000   \n",
      "\n",
      "       dskMrgdWrts   dskWrtTm     ldAvg        time  \n",
      "count     5.000000   5.000000  5.000000    5.000000  \n",
      "mean    237.600000  21.600000  7.912000  322.200000  \n",
      "std       5.029911  11.865918  0.403819    1.095445  \n",
      "min     233.000000   8.000000  7.580000  321.000000  \n",
      "25%     235.000000  16.000000  7.580000  321.000000  \n",
      "50%     236.000000  20.000000  7.700000  323.000000  \n",
      "75%     238.000000  24.000000  8.310000  323.000000  \n",
      "max     246.000000  40.000000  8.390000  323.000000  \n",
      "\n",
      "[8 rows x 22 columns]\n",
      "              output        dsr          dsw            nbr            nbs  \\\n",
      "count      44.000000  44.000000    44.000000      44.000000      44.000000   \n",
      "mean   134891.045455   0.909091  4812.727273  223514.636364  406910.522727   \n",
      "std      1507.431374   6.030227   104.710534    1624.559519    3002.341292   \n",
      "min    130862.000000   0.000000  4648.000000  220587.000000  401740.000000   \n",
      "25%    134087.000000   0.000000  4750.000000  222276.000000  404893.500000   \n",
      "50%    135215.000000   0.000000  4800.000000  223823.000000  407320.000000   \n",
      "75%    135825.000000   0.000000  4824.000000  224523.000000  408954.500000   \n",
      "max    137310.000000  40.000000  5136.000000  226977.000000  412848.000000   \n",
      "\n",
      "              cpuusr       cpukrn      cpuidle  cpuIoWait  cIntSrvc  \\\n",
      "count      44.000000    44.000000    44.000000  44.000000      44.0   \n",
      "mean   118852.409091  1530.022727  8104.340909   0.250000       0.0   \n",
      "std        71.961010    81.134539   322.140367   0.651474       0.0   \n",
      "min    118601.000000  1423.000000  7618.000000   0.000000       0.0   \n",
      "25%    118823.750000  1473.750000  7863.000000   0.000000       0.0   \n",
      "50%    118860.000000  1522.500000  8048.500000   0.000000       0.0   \n",
      "75%    118906.000000  1562.750000  8235.250000   0.000000       0.0   \n",
      "max    118978.000000  1816.000000  8743.000000   3.000000       0.0   \n",
      "\n",
      "          ...      cpuNice   cpuSteal     dskRds  dskMrgdRds  dskReadTm  \\\n",
      "count     ...         44.0  44.000000  44.000000        44.0  44.000000   \n",
      "mean      ...          0.0   4.045455   0.045455         0.0   0.181818   \n",
      "std       ...          0.0   6.830011   0.301511         0.0   1.206045   \n",
      "min       ...          0.0   1.000000   0.000000         0.0   0.000000   \n",
      "25%       ...          0.0   2.000000   0.000000         0.0   0.000000   \n",
      "50%       ...          0.0   3.000000   0.000000         0.0   0.000000   \n",
      "75%       ...          0.0   3.000000   0.000000         0.0   0.000000   \n",
      "max       ...          0.0  41.000000   2.000000         0.0   8.000000   \n",
      "\n",
      "          dskWrts  dskMrgdWrts    dskWrtTm      ldAvg        time  \n",
      "count   44.000000    44.000000   44.000000  44.000000   44.000000  \n",
      "mean   362.068182   239.522727   35.454545   7.881364  321.386364  \n",
      "std      6.956335     8.906461   83.006712   0.419316    0.920463  \n",
      "min    351.000000   230.000000    0.000000   7.030000  320.000000  \n",
      "25%    358.000000   235.000000   11.000000   7.597500  321.000000  \n",
      "50%    360.500000   239.000000   16.000000   7.710000  321.000000  \n",
      "75%    365.000000   240.250000   25.000000   8.295000  321.000000  \n",
      "max    392.000000   279.000000  524.000000   8.510000  323.000000  \n",
      "\n",
      "[8 rows x 22 columns]\n"
     ]
    }
   ],
   "source": [
    "nn_df = df[df['cpuSteal'] > percentile_val]\n",
    "non_nn_df = df[df['cpuSteal'] <= percentile_val]\n",
    "print(nn_df.describe())\n",
    "print(non_nn_df.describe())"
   ]
  },
  {
   "cell_type": "code",
   "execution_count": 318,
   "metadata": {
    "collapsed": false
   },
   "outputs": [
    {
     "name": "stdout",
     "output_type": "stream",
     "text": [
      "172.6\n",
      "              output  dsr     dsw            nbr           nbs         cpuusr  \\\n",
      "count       3.000000  3.0     3.0       3.000000       3.00000       3.000000   \n",
      "mean   130549.000000  0.0  4720.0  221094.333333  402620.00000  118299.000000   \n",
      "std      1657.946622  0.0     8.0     797.205954     925.46853     127.941393   \n",
      "min    128816.000000  0.0  4712.0  220563.000000  402022.00000  118154.000000   \n",
      "25%    129763.500000  0.0  4716.0  220636.000000  402087.00000  118250.500000   \n",
      "50%    130711.000000  0.0  4720.0  220709.000000  402152.00000  118347.000000   \n",
      "75%    131415.500000  0.0  4724.0  221360.000000  402919.00000  118371.500000   \n",
      "max    132120.000000  0.0  4728.0  222011.000000  403686.00000  118396.000000   \n",
      "\n",
      "            cpukrn      cpuidle  cpuIoWait  cIntSrvc     ...      cpuNice  \\\n",
      "count     3.000000     3.000000        3.0       3.0     ...          3.0   \n",
      "mean   1987.333333  8431.000000        0.0       0.0     ...          0.0   \n",
      "std     113.191578   479.196202        0.0       0.0     ...          0.0   \n",
      "min    1891.000000  7878.000000        0.0       0.0     ...          0.0   \n",
      "25%    1925.000000  8284.500000        0.0       0.0     ...          0.0   \n",
      "50%    1959.000000  8691.000000        0.0       0.0     ...          0.0   \n",
      "75%    2035.500000  8707.500000        0.0       0.0     ...          0.0   \n",
      "max    2112.000000  8724.000000        0.0       0.0     ...          0.0   \n",
      "\n",
      "        cpuSteal  dskRds  dskMrgdRds  dskReadTm     dskWrts  dskMrgdWrts  \\\n",
      "count    3.00000     3.0         3.0        3.0    3.000000     3.000000   \n",
      "mean   255.00000     0.0         0.0        0.0  355.333333   234.666667   \n",
      "std     45.90207     0.0         0.0        0.0    0.577350     1.527525   \n",
      "min    217.00000     0.0         0.0        0.0  355.000000   233.000000   \n",
      "25%    229.50000     0.0         0.0        0.0  355.000000   234.000000   \n",
      "50%    242.00000     0.0         0.0        0.0  355.000000   235.000000   \n",
      "75%    274.00000     0.0         0.0        0.0  355.500000   235.500000   \n",
      "max    306.00000     0.0         0.0        0.0  356.000000   236.000000   \n",
      "\n",
      "       dskWrtTm     ldAvg        time  \n",
      "count       3.0  3.000000    3.000000  \n",
      "mean       16.0  7.863333  322.333333  \n",
      "std         8.0  0.391450    1.154701  \n",
      "min         8.0  7.580000  321.000000  \n",
      "25%        12.0  7.640000  322.000000  \n",
      "50%        16.0  7.700000  323.000000  \n",
      "75%        20.0  8.005000  323.000000  \n",
      "max        24.0  8.310000  323.000000  \n",
      "\n",
      "[8 rows x 22 columns]\n",
      "              output        dsr          dsw            nbr            nbs  \\\n",
      "count      46.000000  46.000000    46.000000      46.000000      46.000000   \n",
      "mean   134866.565217   0.869565  4813.913043  223490.913043  406850.586957   \n",
      "std      1486.439036   5.897678   102.636322    1597.699483    2969.042843   \n",
      "min    130862.000000   0.000000  4648.000000  220587.000000  401740.000000   \n",
      "25%    134065.000000   0.000000  4754.000000  222299.500000  404836.500000   \n",
      "50%    135136.500000   0.000000  4800.000000  223773.000000  407283.000000   \n",
      "75%    135809.250000   0.000000  4824.000000  224516.500000  408838.500000   \n",
      "max    137310.000000  40.000000  5136.000000  226977.000000  412848.000000   \n",
      "\n",
      "              cpuusr       cpukrn      cpuidle  cpuIoWait  cIntSrvc  \\\n",
      "count      46.000000    46.000000    46.000000  46.000000      46.0   \n",
      "mean   118845.369565  1536.869565  8113.521739   0.239130       0.0   \n",
      "std        82.235531    89.506700   323.234056   0.638915       0.0   \n",
      "min    118565.000000  1423.000000  7618.000000   0.000000       0.0   \n",
      "25%    118821.500000  1474.000000  7878.500000   0.000000       0.0   \n",
      "50%    118857.000000  1523.500000  8048.500000   0.000000       0.0   \n",
      "75%    118904.750000  1565.000000  8257.750000   0.000000       0.0   \n",
      "max    118978.000000  1816.000000  8743.000000   3.000000       0.0   \n",
      "\n",
      "          ...      cpuNice    cpuSteal     dskRds  dskMrgdRds  dskReadTm  \\\n",
      "count     ...         46.0   46.000000  46.000000        46.0  46.000000   \n",
      "mean      ...          0.0    8.347826   0.043478         0.0   0.173913   \n",
      "std       ...          0.0   21.476827   0.294884         0.0   1.179536   \n",
      "min       ...          0.0    1.000000   0.000000         0.0   0.000000   \n",
      "25%       ...          0.0    2.000000   0.000000         0.0   0.000000   \n",
      "50%       ...          0.0    3.000000   0.000000         0.0   0.000000   \n",
      "75%       ...          0.0    3.000000   0.000000         0.0   0.000000   \n",
      "max       ...          0.0  106.000000   2.000000         0.0   8.000000   \n",
      "\n",
      "          dskWrts  dskMrgdWrts    dskWrtTm      ldAvg        time  \n",
      "count   46.000000    46.000000   46.000000  46.000000   46.000000  \n",
      "mean   362.108696   239.630435   35.217391   7.885870  321.413043  \n",
      "std      6.805972     8.761935   81.176327   0.419235    0.932764  \n",
      "min    351.000000   230.000000    0.000000   7.030000  320.000000  \n",
      "25%    358.000000   235.250000   12.000000   7.592500  321.000000  \n",
      "50%    361.000000   239.000000   16.000000   7.710000  321.000000  \n",
      "75%    364.750000   240.750000   27.000000   8.305000  321.000000  \n",
      "max    392.000000   279.000000  524.000000   8.510000  323.000000  \n",
      "\n",
      "[8 rows x 22 columns]\n"
     ]
    }
   ],
   "source": [
    "percentile_val = df.cpuSteal.quantile(.95)\n",
    "print(percentile_val)\n",
    "nn_df = df[df['cpuSteal'] > percentile_val]\n",
    "non_nn_df = df[df['cpuSteal'] <= percentile_val]\n",
    "print(nn_df.describe())\n",
    "print(non_nn_df.describe())"
   ]
  },
  {
   "cell_type": "markdown",
   "metadata": {},
   "source": [
    "** Approach 3 =>** Two-variable K-Means clustering with Bogo-ops and cpuSteal.  Classify VMs.  Do we get a cluster with VMs that have noisy neighbors?"
   ]
  },
  {
   "cell_type": "code",
   "execution_count": 319,
   "metadata": {
    "collapsed": true
   },
   "outputs": [],
   "source": [
    "modified_df = df[['output', 'cpuSteal']]\n",
    "min_max_scaler = preprocessing.MinMaxScaler()\n",
    "np_scaled = min_max_scaler.fit_transform(modified_df)\n",
    "df_normalized = pd.DataFrame(np_scaled)\n",
    "df_normalized.columns = ['output', 'cpuSteal']"
   ]
  },
  {
   "cell_type": "code",
   "execution_count": 320,
   "metadata": {
    "collapsed": false
   },
   "outputs": [
    {
     "data": {
      "text/plain": [
       "KMeans(copy_x=True, init='k-means++', max_iter=300, n_clusters=2, n_init=10,\n",
       "    n_jobs=1, precompute_distances='auto', random_state=None, tol=0.0001,\n",
       "    verbose=0)"
      ]
     },
     "execution_count": 320,
     "metadata": {},
     "output_type": "execute_result"
    }
   ],
   "source": [
    "model = KMeans(n_clusters=2)\n",
    "model.fit(df_normalized)"
   ]
  },
  {
   "cell_type": "code",
   "execution_count": 321,
   "metadata": {
    "collapsed": false
   },
   "outputs": [
    {
     "name": "stdout",
     "output_type": "stream",
     "text": [
      "              output   cpuSteal  classification\n",
      "count       3.000000    3.00000             3.0\n",
      "mean   130549.000000  255.00000             1.0\n",
      "std      1657.946622   45.90207             0.0\n",
      "min    128816.000000  217.00000             1.0\n",
      "25%    129763.500000  229.50000             1.0\n",
      "50%    130711.000000  242.00000             1.0\n",
      "75%    131415.500000  274.00000             1.0\n",
      "max    132120.000000  306.00000             1.0\n",
      "              output    cpuSteal  classification\n",
      "count      46.000000   46.000000            46.0\n",
      "mean   134866.565217    8.347826             0.0\n",
      "std      1486.439036   21.476827             0.0\n",
      "min    130862.000000    1.000000             0.0\n",
      "25%    134065.000000    2.000000             0.0\n",
      "50%    135136.500000    3.000000             0.0\n",
      "75%    135809.250000    3.000000             0.0\n",
      "max    137310.000000  106.000000             0.0\n"
     ]
    },
    {
     "name": "stderr",
     "output_type": "stream",
     "text": [
      "C:\\Program Files\\Anaconda3\\lib\\site-packages\\ipykernel\\__main__.py:2: SettingWithCopyWarning: \n",
      "A value is trying to be set on a copy of a slice from a DataFrame.\n",
      "Try using .loc[row_indexer,col_indexer] = value instead\n",
      "\n",
      "See the caveats in the documentation: http://pandas.pydata.org/pandas-docs/stable/indexing.html#indexing-view-versus-copy\n",
      "  from ipykernel import kernelapp as app\n"
     ]
    }
   ],
   "source": [
    "modified_df = df[['output', 'cpuSteal']]\n",
    "modified_df['classification'] = pd.Series(model.labels_)\n",
    "nn_df = modified_df[modified_df['classification'] == 1]\n",
    "non_nn_df = modified_df[modified_df['classification'] == 0]\n",
    "print(nn_df.describe())\n",
    "print(non_nn_df.describe())"
   ]
  },
  {
   "cell_type": "markdown",
   "metadata": {},
   "source": [
    "** Approach 4 =>** Three-variable K-Means clustering with Bogo-ops, cpuSteal, and next best predictor.  Classify VMs.  Do we get a cluster with VMs that have noisy neighbors?"
   ]
  },
  {
   "cell_type": "code",
   "execution_count": 322,
   "metadata": {
    "collapsed": false
   },
   "outputs": [
    {
     "name": "stdout",
     "output_type": "stream",
     "text": [
      "      output  cpuSteal    cpuusr    cpukrn\n",
      "0   0.561220  0.344262  0.803398  0.206096\n",
      "1   0.883918  0.006557  0.793689  0.153846\n",
      "2   0.891335  0.006557  0.839806  0.216255\n",
      "3   0.855898  0.006557  0.947816  0.076923\n",
      "4   0.749941  0.006557  0.866505  0.164006\n",
      "5   0.738286  0.009836  0.711165  0.407837\n",
      "6   0.759830  0.006557  0.859223  0.121916\n",
      "7   0.779374  0.006557  0.856796  0.129173\n",
      "8   0.388980  0.790164  0.293689  0.679245\n",
      "9   0.612785  0.131148  0.780340  0.240929\n",
      "10  0.959383  0.003279  0.842233  0.201742\n",
      "11  0.330233  0.006557  0.856796  0.171263\n",
      "12  0.660702  0.003279  0.867718  0.134978\n",
      "13  0.805981  0.006557  0.847087  0.185776\n",
      "14  0.808571  0.009836  0.912621  0.066763\n",
      "15  0.391335  0.003279  0.849515  0.146589\n",
      "16  0.859430  0.003279  0.873786  0.074020\n",
      "17  0.824111  0.006557  0.891990  0.011611\n",
      "18  0.756769  0.006557  0.913835  0.058055\n",
      "19  0.614787  0.003279  0.912621  0.072569\n",
      "20  0.736402  0.003279  0.842233  0.130624\n",
      "21  0.687780  0.003279  0.862864  0.139332\n",
      "22  0.240876  0.003279  0.571602  0.570392\n",
      "23  0.621851  0.003279  0.752427  0.285922\n",
      "24  0.810572  0.003279  0.811893  0.214804\n",
      "25  0.223099  0.708197  0.234223  0.777939\n",
      "26  0.654462  0.085246  0.933252  0.034833\n",
      "27  0.971038  0.000000  0.833738  0.150943\n",
      "28  1.000000  0.003279  0.809466  0.230769\n",
      "29  0.732870  0.003279  0.776699  0.153846\n",
      "30  0.616671  0.006557  0.906553  0.036284\n",
      "31  0.922416  0.003279  0.803398  0.206096\n",
      "32  0.772545  0.006557  0.813107  0.158200\n",
      "33  0.712032  0.006557  0.929612  0.074020\n",
      "34  0.781493  0.009836  0.858010  0.136430\n",
      "35  0.587474  0.003279  0.815534  0.143687\n",
      "36  0.452790  0.003279  0.872573  0.145138\n",
      "37  0.689192  0.006557  0.836165  0.104499\n",
      "38  0.836355  0.006557  1.000000  0.026125\n",
      "39  0.000000  1.000000  0.000000  1.000000\n",
      "40  0.888156  0.009836  0.936893  0.056604\n",
      "41  0.820932  0.003279  0.968447  0.000000\n",
      "42  0.758065  0.003279  0.798544  0.223512\n",
      "43  0.828349  0.000000  0.824029  0.272859\n",
      "44  0.736638  0.324590  0.498786  0.561684\n",
      "45  0.248293  0.006557  0.542476  0.490566\n",
      "46  0.608429  0.006557  0.927184  0.042090\n",
      "47  0.519543  0.003279  0.921117  0.002903\n",
      "48  0.688251  0.013115  0.922330  0.169811\n"
     ]
    }
   ],
   "source": [
    "modified_df = df[['output', 'cpuSteal', 'cpuusr', 'cpukrn']]\n",
    "min_max_scaler = preprocessing.MinMaxScaler()\n",
    "np_scaled = min_max_scaler.fit_transform(modified_df)\n",
    "df_normalized = pd.DataFrame(np_scaled)\n",
    "df_normalized.columns = ['output', 'cpuSteal', 'cpuusr', 'cpukrn']\n",
    "print(df_normalized)"
   ]
  },
  {
   "cell_type": "code",
   "execution_count": 323,
   "metadata": {
    "collapsed": false
   },
   "outputs": [
    {
     "data": {
      "text/plain": [
       "KMeans(copy_x=True, init='k-means++', max_iter=300, n_clusters=2, n_init=10,\n",
       "    n_jobs=1, precompute_distances='auto', random_state=None, tol=0.0001,\n",
       "    verbose=0)"
      ]
     },
     "execution_count": 323,
     "metadata": {},
     "output_type": "execute_result"
    }
   ],
   "source": [
    "model = KMeans(n_clusters=2)\n",
    "model.fit(df_normalized)"
   ]
  },
  {
   "cell_type": "code",
   "execution_count": 324,
   "metadata": {
    "collapsed": false
   },
   "outputs": [
    {
     "name": "stdout",
     "output_type": "stream",
     "text": [
      "              output   cpuSteal         cpuusr       cpukrn  classification\n",
      "count       3.000000    3.00000       3.000000     3.000000             3.0\n",
      "mean   130549.000000  255.00000  118299.000000  1987.333333             1.0\n",
      "std      1657.946622   45.90207     127.941393   113.191578             0.0\n",
      "min    128816.000000  217.00000  118154.000000  1891.000000             1.0\n",
      "25%    129763.500000  229.50000  118250.500000  1925.000000             1.0\n",
      "50%    130711.000000  242.00000  118347.000000  1959.000000             1.0\n",
      "75%    131415.500000  274.00000  118371.500000  2035.500000             1.0\n",
      "max    132120.000000  306.00000  118396.000000  2112.000000             1.0\n",
      "              output    cpuSteal         cpuusr       cpukrn  classification\n",
      "count      46.000000   46.000000      46.000000    46.000000            46.0\n",
      "mean   134866.565217    8.347826  118845.369565  1536.869565             0.0\n",
      "std      1486.439036   21.476827      82.235531    89.506700             0.0\n",
      "min    130862.000000    1.000000  118565.000000  1423.000000             0.0\n",
      "25%    134065.000000    2.000000  118821.500000  1474.000000             0.0\n",
      "50%    135136.500000    3.000000  118857.000000  1523.500000             0.0\n",
      "75%    135809.250000    3.000000  118904.750000  1565.000000             0.0\n",
      "max    137310.000000  106.000000  118978.000000  1816.000000             0.0\n"
     ]
    },
    {
     "name": "stderr",
     "output_type": "stream",
     "text": [
      "C:\\Program Files\\Anaconda3\\lib\\site-packages\\ipykernel\\__main__.py:2: SettingWithCopyWarning: \n",
      "A value is trying to be set on a copy of a slice from a DataFrame.\n",
      "Try using .loc[row_indexer,col_indexer] = value instead\n",
      "\n",
      "See the caveats in the documentation: http://pandas.pydata.org/pandas-docs/stable/indexing.html#indexing-view-versus-copy\n",
      "  from ipykernel import kernelapp as app\n"
     ]
    }
   ],
   "source": [
    "modified_df = df[['output', 'cpuSteal', 'cpuusr', 'cpukrn']]\n",
    "modified_df['classification'] = pd.Series(model.labels_)\n",
    "nn_df = modified_df[modified_df['classification'] == 1]\n",
    "non_nn_df = modified_df[modified_df['classification'] == 0]\n",
    "print(nn_df.describe())\n",
    "print(non_nn_df.describe())"
   ]
  }
 ],
 "metadata": {
  "kernelspec": {
   "display_name": "Python [conda root]",
   "language": "python",
   "name": "conda-root-py"
  },
  "language_info": {
   "codemirror_mode": {
    "name": "ipython",
    "version": 3
   },
   "file_extension": ".py",
   "mimetype": "text/x-python",
   "name": "python",
   "nbconvert_exporter": "python",
   "pygments_lexer": "ipython3",
   "version": "3.5.2"
  }
 },
 "nbformat": 4,
 "nbformat_minor": 2
}
